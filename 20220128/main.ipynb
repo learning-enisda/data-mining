{
 "cells": [
  {
   "cell_type": "code",
   "execution_count": null,
   "metadata": {},
   "outputs": [],
   "source": [
    "# DATA MINING\n",
    "# JUMAT 28 JANUARI 2022\n",
    "\"\"\"\n",
    "1. Business Understanding\n",
    "2. Data Understanding\n",
    "3. DATA PREPARATION\n",
    "4. MODELING (KONSEP ALGORITMA DIDALAM DATA YANG SUDAH ADA)\n",
    "5. EVALUATION \n",
    "6. DEPLOYMENT\n",
    "\"\"\""
   ]
  },
  {
   "cell_type": "code",
   "execution_count": null,
   "metadata": {},
   "outputs": [],
   "source": []
  }
 ],
 "metadata": {
  "language_info": {
   "name": "python"
  },
  "orig_nbformat": 4
 },
 "nbformat": 4,
 "nbformat_minor": 2
}
